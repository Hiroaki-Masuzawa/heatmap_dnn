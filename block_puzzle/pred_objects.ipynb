{
 "cells": [
  {
   "cell_type": "code",
   "execution_count": 1,
   "id": "2c54852e-25b4-4bc2-8a52-8c546a49b666",
   "metadata": {},
   "outputs": [],
   "source": [
    "import cnoid.CGALUtil as cgal\n",
    "exec(open('/choreonoid_ws/install/share/irsl_choreonoid/sample/irsl_import.py').read())\n",
    "\n",
    "light_blue_color = (173/255, 216/255, 230/255)\n",
    "yellow_color = (1,1,0)\n",
    "red_color    = (1,0,0)\n",
    "green_color  = (0, 66/255, 37/255)\n",
    "black_bean_color = (61/255, 12/255, 2/255)\n",
    "african_violet_color = (178/255, 132/255, 190/255)\n",
    "bright_green_color = (102/255, 255/255, 0)\n",
    "\n",
    "def makeOnEdgeTetra(from_pt, to_pt, cube_size, c_size):\n",
    "    zz = to_pt - from_pt\n",
    "    zz = zz/np.linalg.norm(zz)\n",
    "    yy = to_pt + from_pt\n",
    "    yy = yy/np.linalg.norm(yy)\n",
    "    mat = np.column_stack([np.cross(yy, zz), yy, zz])\n",
    "    cds=coordinates(from_pt, mat)\n",
    "    #cc=mkshapes.makeTetrahedron(cube_c_size*5, cube_c_size*5, cube_size*2, center_x=cube_c_size*2.5, center_y=0.0, coords=cds)\n",
    "    cc=cgal.makeTetrahedron(c_size*5, c_size*5, cube_size*2, center_x=c_size*2.5, center_y=0.0, coords=cds)\n",
    "    cc.translate(npa([0, 0, -cube_size*0.05]))\n",
    "    cc.translate(npa([-c_size*2.5, 0, 0]))\n",
    "    cc.translate(npa([0, -c_size*0.5, 0]))\n",
    "    return cc\n",
    "\n",
    "def makeCubeWithC(cube_size, horizontal_c_size=None, vertical_c_size=None, color=None, horizontalEdge=True, verticalEdge=False):\n",
    "    if horizontal_c_size is None:\n",
    "        horiaontal_c_size = 0.02 * cube_size\n",
    "    if vertical_c_size is None:\n",
    "        vertical_c_size = 0.02 * cube_size\n",
    "    res = cgal.makeBox(cube_size, color=color)\n",
    "    #res = [ cgal.makeBox(cube_size, color=color) ]\n",
    "    size_2 = cube_size*0.5\n",
    "    lst=((1, 1), (-1, 1), (-1, -1), (1, -1))\n",
    "    if horizontalEdge:\n",
    "        for l in range(len(lst)):\n",
    "            from_pt = npa([lst[l-1][0]*size_2, lst[l-1][1]*size_2, size_2])\n",
    "            to_pt   = npa([lst[l  ][0]*size_2, lst[l  ][1]*size_2, size_2])\n",
    "            obj=makeOnEdgeTetra(from_pt, to_pt, cube_size, horizontal_c_size)\n",
    "            cgal.booleanDifference(res, obj)\n",
    "            #res.append(obj)\n",
    "        for l in range(len(lst)):\n",
    "            from_pt = npa([lst[l-1][0]*size_2, lst[l-1][1]*size_2, -size_2])\n",
    "            to_pt   = npa([lst[l  ][0]*size_2, lst[l  ][1]*size_2, -size_2])\n",
    "            obj=makeOnEdgeTetra(from_pt, to_pt, cube_size, horizontal_c_size)\n",
    "            cgal.booleanDifference(res, obj)\n",
    "            #res.append(obj)\n",
    "    if verticalEdge:\n",
    "        for l in range(len(lst)):\n",
    "            from_pt = npa([lst[l][0]*size_2, lst[l][1]*size_2, -size_2])\n",
    "            to_pt   = npa([lst[l][0]*size_2, lst[l][1]*size_2,  size_2])\n",
    "            obj=makeOnEdgeTetra(from_pt, to_pt, cube_size, vertical_c_size)\n",
    "            cgal.booleanDifference(res, obj)\n",
    "            #res.append(obj)\n",
    "    return res\n",
    "\n",
    "def makeConnectedCubes(lst, color, cube_size=1.0, cube_c_size=0.04):\n",
    "    res = []\n",
    "    for l in lst:\n",
    "        obj = makeCubeWithC(cube_size, cube_c_size, color=color)\n",
    "        obj.translate( cube_size * npa(l) )\n",
    "        res.append(obj)\n",
    "    return res\n",
    "\n",
    "def makeConnectedCubesScen(lst, fname, color=None, cube_size=1.0, uri=None):\n",
    "    res = []\n",
    "    if uri is None:\n",
    "        uri = fname\n",
    "    for l in lst:\n",
    "        obj = mkshapes.loadScene(fname, fileUri=uri, color=color)\n",
    "        obj.translate( cube_size * npa(l) )\n",
    "        res.append(obj)\n",
    "    return res\n",
    "\n",
    "def makeConnectedCubesPrimitive(lst, color=None, cube_size=1.0):\n",
    "    res = []\n",
    "    for l in lst:\n",
    "        obj = mkshapes.makeBox(cube_size, color=color)\n",
    "        obj.translate( cube_size * npa(l) )\n",
    "        res.append(obj)\n",
    "    return res\n",
    "\n",
    "#settings=((0, 0, 0), (0, -1, 0), (0,  0, 1), (0, 1, 1))\n",
    "def createCubes(name, settings, size, c_size, color=None, dirname='', mode=2, URDF=False, meshURLPrefix=''):\n",
    "    obj = makeCubeWithC(size, horizontal_c_size=c_size, vertical_c_size=c_size,\n",
    "                        horizontalEdge=True, verticalEdge=True)\n",
    "    fname = '{}cube_with_c.scen'.format(dirname)\n",
    "    mkshapes.exportScene(fname, obj.target, exportMesh=True)\n",
    "    vis = makeConnectedCubesScen(settings, fname, color=color, cube_size=size)\n",
    "    col = makeConnectedCubesPrimitive(settings, cube_size=size)\n",
    "    # Builder\n",
    "    rb=RobotBuilder()\n",
    "    # visual\n",
    "    rb.addShapes(vis)\n",
    "    # collision\n",
    "    gcol = cutil.SgGroup()\n",
    "    for c in col:\n",
    "        gcol.addChild(c.target)\n",
    "    ### for zero division / calc mass from collision\n",
    "    lcur=rb.createLinkFromShape(name='base_link', root=True, density=200, collision=gcol, useCollisionForMassparam=True)\n",
    "    if URDF:\n",
    "        urdffname='{}{}.urdf'.format(dirname, name)\n",
    "        rb.exportURDF(urdffname, RobotName=name, UseURDFPrimitiveGeometry=True, UseXacro=False, MeshURLPrefix=meshURLPrefix, MeshFilePrefix=dirname)\n",
    "    else:\n",
    "        bodyfname='{}{}.body'.format(dirname, name)\n",
    "        rb.exportBody(bodyfname, mode=mode, modelName=name)"
   ]
  },
  {
   "cell_type": "code",
   "execution_count": 2,
   "id": "358b7e01-a532-40ab-9bd9-641275c1d9ee",
   "metadata": {},
   "outputs": [],
   "source": [
    "import os\n",
    "\n",
    "CUBE_SIZE = 0.03\n",
    "CUBE_C_SIZE=0.001\n",
    "_meshprefix='package://irsl_sim_environments/urdf/puzzle_blocks/'\n",
    "_URDF=False\n",
    "_outputdir='/tmp/cnoid/'\n",
    "#_URDF=True\n",
    "#_outputdir='/tmp/urdf/'\n",
    "\n",
    "def loadRobot(file):\n",
    "    ritm=ib.loadRobotItem(file)\n",
    "    return RobotModel(ritm)\n",
    "\n",
    "def deleteRobot():\n",
    "    w=ib.getOrAddWorld()\n",
    "    w.removeFromParentItem()\n",
    "\n",
    "import random\n",
    "def setRandomCamera():\n",
    "    theta = random.gauss(0, PI/2)\n",
    "    elv   = random.gauss(0, PI/4)\n",
    "    ar = IC.normalizeVector(fv(math.sin(theta), math.cos(theta), math.tan(elv)))\n",
    "    #ln = mkshapes.makeLines([[0, 0, 0], ar.tolist()])\n",
    "    #di.addObject(ln)\n",
    "    cds=ib.cameraPositionLookingAt(ar, fv(0, 0, 0), fv(0, 0, 1))\n",
    "    ib.setCameraCoords(cds)\n",
    "    ib.viewAll()\n",
    "\n",
    "def setEnvironment(size=512, color=[0, 0, 0], **kwargs):\n",
    "    ib.setViewSize(size, size)\n",
    "    ib.setBackgroundColor(color)\n",
    "    ib.disableGrid()\n",
    "    ib.setCoordinateAxes(False)\n",
    "\n",
    "def saveImage(prefix, *args):\n",
    "    ib.viewAll()\n",
    "    filename = prefix.format(*args)\n",
    "    ib.saveImageOfScene(filename)"
   ]
  },
  {
   "cell_type": "code",
   "execution_count": 3,
   "id": "2fb4bd07-c404-47fd-91cf-53079dbc2a48",
   "metadata": {},
   "outputs": [],
   "source": [
    "block_settings = {'yellow_block':{'color':yellow_color, 'settings': ((0, 0, 0), (0, 0, 1), (0, 1, 1), (0, 2, 1))},\n",
    "                'cyan_block':{'color':light_blue_color, 'settings': ((0, 0, 0), (0, -1, 1), (0,  0, 1), (0, 1, 1))},\n",
    "                'red_block':{'color':red_color, 'settings': ((0, 0, 0), (0, -1, 0), (0, 0, 1), (0, 1, 1))},\n",
    "                'green_block':{'color':green_color, 'settings': ((0, 0, 0), (1, 0, 1), (0, 0, 1), (0, 1, 1))},\n",
    "                'brown_block':{'color':black_bean_color, 'settings': ((0, 0, 0), (1, 0, 0), (0, 0, 1), (1, 0, 1))},\n",
    "                'purple_block':{'color':african_violet_color, 'settings': ((0, 0, 0), (0, 0, 1), (1, 0, 1), (1, -1, 1))},\n",
    "                'lightgreen_block':{'color':bright_green_color, 'settings': ((0, 0, 0), (0, 0, 1), (0, -1, 1))},\n",
    "               }"
   ]
  },
  {
   "cell_type": "code",
   "execution_count": 4,
   "id": "8e7b16f2-5ed8-4f8a-be60-86b2471f8e67",
   "metadata": {},
   "outputs": [],
   "source": [
    "setEnvironment()\n",
    "di = DrawInterface()"
   ]
  },
  {
   "cell_type": "code",
   "execution_count": 5,
   "id": "f00dc1e2",
   "metadata": {},
   "outputs": [],
   "source": [
    "for block_name in block_settings.keys():\n",
    "    block_setting = block_settings[block_name]\n",
    "    settings=block_setting['settings']\n",
    "    name=block_name\n",
    "    _col=block_setting['color']\n",
    "    os.makedirs('{}{}/'.format(_outputdir, name), exist_ok=True)\n",
    "    createCubes(name, settings, CUBE_SIZE, CUBE_C_SIZE, color=_col, dirname='{}{}/'.format(_outputdir, name),\n",
    "                URDF=_URDF, meshURLPrefix='{}{}/'.format(_meshprefix, name))\n"
   ]
  },
  {
   "cell_type": "code",
   "execution_count": 6,
   "id": "04159f66-50bf-4d32-8937-b3882f5d34cc",
   "metadata": {},
   "outputs": [],
   "source": [
    "block_name = 'red_block'\n",
    "robot = loadRobot('/tmp/cnoid/{}/{}.body'.format(block_name,block_name))\n",
    "setRandomCamera()"
   ]
  },
  {
   "cell_type": "code",
   "execution_count": 7,
   "id": "e20c3953-47c1-41e8-86fe-1dfa9bde29da",
   "metadata": {},
   "outputs": [
    {
     "data": {
      "image/png": "[encoded data removed]"
     },
     "execution_count": 7,
     "metadata": {},
     "output_type": "execute_result"
    }
   ],
   "source": [
    "%display"
   ]
  },
  {
   "cell_type": "code",
   "execution_count": 8,
   "id": "5763a4b7-f92a-4679-b5bc-76794f3dd558",
   "metadata": {},
   "outputs": [],
   "source": [
    "tmp_image_filename = \"/tmp/test.png\"\n",
    "saveImage(tmp_image_filename)"
   ]
  },
  {
   "cell_type": "code",
   "execution_count": 9,
   "id": "bba18065",
   "metadata": {},
   "outputs": [
    {
     "data": {
      "text/plain": [
       "0\n",
       "\n",
       "0"
      ]
     },
     "execution_count": 9,
     "metadata": {},
     "output_type": "execute_result"
    }
   ],
   "source": [
    "import os\n",
    "os.system(\"pip3 install torch torchvision torchaudio --index-url https://download.pytorch.org/whl/cpu\")\n",
    "os.system(\"pip3 install setuptools scipy segmentation-models-pytorch\")"
   ]
  },
  {
   "cell_type": "code",
   "execution_count": 10,
   "id": "321dd07a-6669-4486-86fa-0b3b250935e8",
   "metadata": {},
   "outputs": [],
   "source": [
    "import cv2\n",
    "from pred_puzzle import gen_featrue_map, fit2model_p3p, gen_fitting_model\n",
    "import torch\n",
    "import yaml"
   ]
  },
  {
   "cell_type": "code",
   "execution_count": 11,
   "id": "8c0c7f71-a581-446d-a304-99ad949f9d1e",
   "metadata": {},
   "outputs": [
    {
     "ename": "Error",
     "evalue": "001",
     "output_type": "error",
     "traceback": [
      "<console>:1: FutureWarning: You are using `torch.load` with `weights_only=False` (the current default value), which uses the default pickle module implicitly. It is possible to construct malicious pickle data which will execute arbitrary code during unpickling (See https://github.com/pytorch/pytorch/blob/main/SECURITY.md#untrusted-models for more details). In a future release, the default value for `weights_only` will be flipped to `True`. This limits the functions that could be executed during unpickling. Arbitrary objects will no longer be allowed to be loaded via this mode unless they are explicitly allowlisted by the user via `torch.serialization.add_safe_globals`. We recommend you start setting `weights_only=True` for any use case where you don't have full control of the loaded file. Please open an issue on GitHub for any issues related to this experimental feature.\n"
     ]
    }
   ],
   "source": [
    "device = torch.device('cpu')\n",
    "\n",
    "image = cv2.imread(tmp_image_filename)\n",
    "model = torch.load('../output-20241018014650/model_010.pth', map_location=device)"
   ]
  },
  {
   "cell_type": "code",
   "execution_count": 12,
   "id": "b149995e-c5fc-4e63-93b8-8d96dcdee3b3",
   "metadata": {},
   "outputs": [],
   "source": [
    "cam_mat = ib.getCameraMatrix()\n",
    "dist = np.zeros((5))\n",
    "\n",
    "\n",
    "with open('annotation.yaml', \"r\", encoding=\"utf-8\") as f:\n",
    "    anno_dat = yaml.safe_load(f)\n",
    "\n",
    "fitting_model = gen_fitting_model(anno_dat[\"blocks\"], issort=True)"
   ]
  },
  {
   "cell_type": "code",
   "execution_count": 13,
   "id": "d7206726-16e8-448c-a127-42d59dcec0f3",
   "metadata": {},
   "outputs": [],
   "source": [
    "(\n",
    "    pred_convex,\n",
    "    pred_concave,\n",
    "    pred_convex_lm,\n",
    "    pred_concave_lm,\n",
    "    convex_pos,\n",
    "    concave_pos,\n",
    ") = gen_featrue_map(image, model, device, score_ths=[0.5, 0.3, 0.25, 0.2, 0.15, 0.1])"
   ]
  },
  {
   "cell_type": "code",
   "execution_count": 14,
   "id": "03dc033e-f990-400a-96c1-4c19bd77f7da",
   "metadata": {},
   "outputs": [],
   "source": [
    "max_score, max_score_dat = fit2model_p3p(\n",
    "                fitting_model[block_name], convex_pos, pred_convex, cam_mat, dist, itr_num=0, use_ransac=True\n",
    "            )"
   ]
  },
  {
   "cell_type": "code",
   "execution_count": 15,
   "id": "23651d1a-6719-42bf-b0df-b7f10417e2eb",
   "metadata": {},
   "outputs": [
    {
     "data": {
      "text/plain": [
       "(-3.7634410283128203, {'rvec': array([[-1.14315268],\n",
       "       [ 0.4723548 ],\n",
       "       [ 0.67145608]]), 'tvec': array([[ 1.32944742e-04],\n",
       "       [-1.41491466e-02],\n",
       "       [ 1.72420958e-01]]), 'point': array([[153.        , 120.        ],\n",
       "       [257.51182552, 141.93928832],\n",
       "       [337.43835584,  85.82453781],\n",
       "       [438.97624377,  99.48559378],\n",
       "       [334.21908573, 198.83909338],\n",
       "       [430.        , 223.        ],\n",
       "       [256.74859099, 335.78950124],\n",
       "       [349.23369464, 375.44866622],\n",
       "       [ 39.78499892, 296.25970545],\n",
       "       [135.28716015, 344.84704407],\n",
       "       [ 54.38165301, 429.25970957],\n",
       "       [145.        , 492.        ]])})"
      ]
     },
     "execution_count": 15,
     "metadata": {},
     "output_type": "execute_result"
    }
   ],
   "source": [
    "(max_score, max_score_dat)"
   ]
  },
  {
   "cell_type": "code",
   "execution_count": 16,
   "id": "bbebb695-90f9-4f3f-b72b-daf9b23da82b",
   "metadata": {},
   "outputs": [
    {
     "data": {
      "text/plain": [
       "<coordinates[0x5dd984eef910] 3.10217e-05 0.000158501 0.030211 / 0.99994 -0.000149564 0.00968228 0.0051332 >"
      ]
     },
     "execution_count": 16,
     "metadata": {},
     "output_type": "execute_result"
    }
   ],
   "source": [
    "camera_cds, _ = ib.getCameraCoords()\n",
    "rot_mat, _ = cv2.Rodrigues(max_score_dat['rvec'])\n",
    "target_camera_cds = coordinates(max_score_dat['tvec'], rot_mat)\n",
    "estimate_cds = camera_cds.copy().transform(target_camera_cds)\n",
    "\n",
    "robot2 = loadRobot('/tmp/cnoid/{}/{}_inv.body'.format(block_name,block_name))\n",
    "robot2.rootCoords(estimate_cds)"
   ]
  },
  {
   "cell_type": "code",
   "execution_count": 17,
   "id": "0c1c241c-7bd6-473d-aab8-1a7fd2fb180b",
   "metadata": {},
   "outputs": [
    {
     "data": {
      "image/png": "[encoded data removed]"
     },
     "execution_count": 17,
     "metadata": {},
     "output_type": "execute_result"
    }
   ],
   "source": [
    "%display"
   ]
  },
  {
   "cell_type": "code",
   "execution_count": 23,
   "id": "faf13240-3fdd-4c58-9128-cb5752024a0a",
   "metadata": {},
   "outputs": [],
   "source": [
    "deleteRobot()"
   ]
  },
  {
   "cell_type": "code",
   "execution_count": null,
   "id": "eae89f9c-cb03-4a43-942b-c39da4eeac9d",
   "metadata": {},
   "outputs": [],
   "source": []
  }
 ],
 "metadata": {
  "kernelspec": {
   "display_name": "Robot Programming",
   "language": "python",
   "name": "roboprog"
  },
  "language_info": {
   "codemirror_mode": "",
   "file_extension": ".py",
   "mimetype": "text/x-python",
   "name": "python",
   "nbconvert_exporter": "",
   "pygments_lexer": "",
   "version": "3.7"
  }
 },
 "nbformat": 4,
 "nbformat_minor": 5
}
